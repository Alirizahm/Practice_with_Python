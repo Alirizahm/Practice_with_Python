{
 "cells": [
  {
   "cell_type": "markdown",
   "id": "cc3e33eb",
   "metadata": {},
   "source": [
    "# Numpy Question 1"
   ]
  },
  {
   "cell_type": "markdown",
   "id": "66867075",
   "metadata": {},
   "source": [
    "Your function will be called `display_max`. Your input will be a `numpy array`. Your output will be to tell us at which index is the maximum value of each row. Separate your output for each row with commas.\n",
    "\n",
    "If there are more than one maximum values, only tell us the position of the FIRST occurence. \n",
    "\n",
    "#### Example 1\n",
    "\n",
    "Input array: `[[1,2,3,4,3], [5,10,8,3,2], [-5,7,8.4,1,0]]`\n",
    "\n",
    "Output: 3, 1, 2\n",
    "\n",
    "Explanation:\n",
    "\n",
    "- The first row, `[1,2,3,4,3]`, has the maximum value of `4` at index = 3 (Remember! This is Python. Index starts at 0)\n",
    "\n",
    "- The second row, `[5,10,8,3,2]`, has the maximum value of `10` at index = 1\n",
    "\n",
    "- The third row, `[-5,7,8.4,1,0]`, has the maximum value of `8.4` at index = 2\n",
    "\n",
    "So, your output should be '3,1,2'\n",
    "\n",
    "#### Example 2\n",
    "\n",
    "Input array = `[[5,10,1,3], [1,5,1,5], [0,3,1,8]]`\n",
    "\n",
    "Output: 1,1,3\n",
    "\n",
    "Explanation:\n",
    "\n",
    "- The first row, `[5,10,1,3]` has the maximum value of `10` at index = 1\n",
    "- The second row, `[1,5,1,5]` has the maximum value of `5` at index = 1, 3. But we only need to print the first occurence, so we only print index = 1. \n",
    "- The third row, `[0,3,1,8]` has the maximum value of `8` at index = 3.\n",
    "\n",
    "So, your output should be '1,1,3'\n",
    "\n",
    "#### Constrains:\n",
    "- Number of rows could be any integer. We can have input array of any shape and sizes. "
   ]
  },
  {
   "cell_type": "code",
   "execution_count": 38,
   "id": "0234741d",
   "metadata": {},
   "outputs": [],
   "source": [
    "import numpy as np"
   ]
  },
  {
   "cell_type": "code",
   "execution_count": 39,
   "id": "c3a763d3",
   "metadata": {},
   "outputs": [],
   "source": [
    "Input_array = [[1,2,3,4,3], [5,10,8,3,2], [-5,7,8.4,1,0]]"
   ]
  },
  {
   "cell_type": "code",
   "execution_count": 40,
   "id": "81a0c069",
   "metadata": {},
   "outputs": [
    {
     "data": {
      "text/plain": [
       "array([3, 1, 2], dtype=int64)"
      ]
     },
     "execution_count": 40,
     "metadata": {},
     "output_type": "execute_result"
    }
   ],
   "source": [
    "def display_max(input_array):\n",
    "    return np.argmax(input_array, axis=1)\n",
    "\n",
    "Input_array_1 = display_max(Input_array)\n",
    "Cek_Input_array"
   ]
  },
  {
   "cell_type": "code",
   "execution_count": 41,
   "id": "30828821",
   "metadata": {},
   "outputs": [
    {
     "data": {
      "text/plain": [
       "[3, 1, 2]"
      ]
     },
     "execution_count": 41,
     "metadata": {},
     "output_type": "execute_result"
    }
   ],
   "source": [
    "list = Cek_Input_array.tolist()\n",
    "list"
   ]
  },
  {
   "cell_type": "markdown",
   "id": "59d765bb",
   "metadata": {},
   "source": [
    "# Numpy Question 2"
   ]
  },
  {
   "cell_type": "markdown",
   "id": "3eccca78",
   "metadata": {},
   "source": [
    "##### Reminder\n",
    "\n",
    "If the solution has looping `for`, `while`, you do not get full points. The aim of this exercise is to avoid looping while doing things that require certain conditions.\n",
    "\n",
    "#### Instructions: ####\n",
    "\n",
    "Your function should be called `grade`. Your input will be an array where each rows shows the score of a student. Your output will be an array WITH THE EXACT SAME SIZE as the input array, but only filled with 'P' and 'F'.\n",
    "\n",
    "- If the score is >= 70, then for that test, the student passes. We give the symbol 'P' to indicate that the student passes.\n",
    "- If the score is < 70, then for that test, the student fails. We give the symbol 'F', to indicate that the student fails."
   ]
  },
  {
   "cell_type": "code",
   "execution_count": 42,
   "id": "72cf3f94",
   "metadata": {},
   "outputs": [],
   "source": [
    "input_array = np.array([[100,50,100],\n",
    "                       [70,70,70],\n",
    "                       [40,80,40],\n",
    "                       [50,55,80]])"
   ]
  },
  {
   "cell_type": "code",
   "execution_count": 43,
   "id": "41838a09",
   "metadata": {},
   "outputs": [
    {
     "data": {
      "text/plain": [
       "array([['P', 'F', 'P'],\n",
       "       ['P', 'P', 'P'],\n",
       "       ['F', 'P', 'F'],\n",
       "       ['F', 'F', 'P']], dtype='<U1')"
      ]
     },
     "execution_count": 43,
     "metadata": {},
     "output_type": "execute_result"
    }
   ],
   "source": [
    "def grade(input_array):\n",
    "    x = ['P']\n",
    "    y = ['F']\n",
    "    return np.where(input_array >= 70,x,y)\n",
    "\n",
    "grade_check = grade(input_array)\n",
    "grade_check"
   ]
  },
  {
   "cell_type": "code",
   "execution_count": 44,
   "id": "4fb34515",
   "metadata": {},
   "outputs": [
    {
     "data": {
      "text/plain": [
       "[['P', 'F', 'P'], ['P', 'P', 'P'], ['F', 'P', 'F'], ['F', 'F', 'P']]"
      ]
     },
     "execution_count": 44,
     "metadata": {},
     "output_type": "execute_result"
    }
   ],
   "source": [
    "list_grade = grade_check.tolist()\n",
    "list_grade"
   ]
  }
 ],
 "metadata": {
  "kernelspec": {
   "display_name": "Python 3",
   "language": "python",
   "name": "python3"
  },
  "language_info": {
   "codemirror_mode": {
    "name": "ipython",
    "version": 3
   },
   "file_extension": ".py",
   "mimetype": "text/x-python",
   "name": "python",
   "nbconvert_exporter": "python",
   "pygments_lexer": "ipython3",
   "version": "3.8.8"
  }
 },
 "nbformat": 4,
 "nbformat_minor": 5
}
