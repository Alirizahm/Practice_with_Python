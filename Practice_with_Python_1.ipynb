{
 "cells": [
  {
   "cell_type": "markdown",
   "id": "55634152",
   "metadata": {},
   "source": [
    "# Shifting Members of an Array"
   ]
  },
  {
   "cell_type": "markdown",
   "id": "6b6be9bf",
   "metadata": {},
   "source": [
    "In this question, we want to shift our array to the right. How many times? Depends on the input. \n",
    "\n",
    "##### Example 1:\n",
    "array = [1,2,3,4,5]\n",
    "steps = 3\n",
    "\n",
    "We need to shift the array 3 steps to the right. \n",
    "- Original array = [1,2,3,4,5]\n",
    "- Step 1 = [5,1,2,3,4]\n",
    "- Step 2 = [4,5,1,2,3]\n",
    "- Step 3 = [3,4,5,1,2]\n",
    "\n",
    "Answer = [3,4,5,1,2]\n",
    "\n",
    "##### Example 2:\n",
    "array = [1,2,3]\n",
    "steps = 5\n",
    "\n",
    "We need to shift the array 5 steps to the right.\n",
    "\n",
    "- Original array = [1,2,3]\n",
    "- Step 1 = [3,1,2]\n",
    "- Step 2 = [2,3,1]\n",
    "- Step 3 = [1,2,3]\n",
    "- Step 4 = [3,1,2]\n",
    "- Step 5 = [2,3,1]\n",
    "\n",
    "Answer = [2,3,1]"
   ]
  },
  {
   "cell_type": "code",
   "execution_count": 9,
   "id": "79bf8cdd",
   "metadata": {},
   "outputs": [
    {
     "name": "stdout",
     "output_type": "stream",
     "text": [
      "Expected Output :  [3, 4, 5, 1, 2]\n"
     ]
    }
   ],
   "source": [
    "import collections\n",
    "from collections import deque\n",
    "array = [1,2,3,4,5]\n",
    "steps = 3\n",
    "def shift(a,b):\n",
    "    shift_cek = deque(a)\n",
    "    shift_cek.rotate(b)\n",
    "    shift1 = list(shift_cek)\n",
    "    print('Expected Output : ', shift1)\n",
    "\n",
    "shift(array, steps)  "
   ]
  },
  {
   "cell_type": "markdown",
   "id": "587f17a5",
   "metadata": {},
   "source": [
    "# Pascal's Triangle"
   ]
  },
  {
   "cell_type": "markdown",
   "id": "54cd0d4e",
   "metadata": {},
   "source": [
    "We want to generate the n-th row of \"Pascal's Triangle\". Your function name should be ```pascal```. For those who does not know pascal triangle \n",
    "\n",
    "##### Example 1:\n",
    "Input = 4,\n",
    "\n",
    "Answer = [1,4,6,4,1]\n",
    "\n",
    "##### Example 2:\n",
    "input = 3,\n",
    "\n",
    "Answer = [1,3,3,1]"
   ]
  },
  {
   "cell_type": "code",
   "execution_count": 2,
   "id": "c19d4ef9",
   "metadata": {},
   "outputs": [
    {
     "name": "stdout",
     "output_type": "stream",
     "text": [
      "[1, 4, 6, 4, 1]\n"
     ]
    }
   ],
   "source": [
    "input = 4\n",
    "def pascal (x):\n",
    "    pascal_cek = 11**x\n",
    "    pascal1 = [int(i) for i in str(pascal_cek)]\n",
    "    print(pascal1)\n",
    "\n",
    "pascal(input)"
   ]
  },
  {
   "cell_type": "markdown",
   "id": "ed6eaa14",
   "metadata": {},
   "source": [
    "# Maximum Distance"
   ]
  },
  {
   "cell_type": "markdown",
   "id": "af0d19a5",
   "metadata": {},
   "source": [
    "Given three coordinates, determine which two points are the furthest apart, and output the length of their distance. Your function should be called ```max_distance```. First coordinate is called 'A', second coordinate is called 'B', third coordinate is called 'C'. \n",
    "\n",
    "\n",
    "##### Example:\n",
    "A = [1,2],\n",
    "B = [10,-10],\n",
    "C = [-3, 5]\n",
    "\n",
    "- The distance between AB = 15\n",
    "- The distance between BC = 19.8\n",
    "- The distance between AC = 5.0\n",
    "\n",
    "Answer = \"The point A, B are furthest apart with distance 19.8\""
   ]
  },
  {
   "cell_type": "code",
   "execution_count": 3,
   "id": "94a8508e",
   "metadata": {},
   "outputs": [
    {
     "name": "stdout",
     "output_type": "stream",
     "text": [
      "The distance between AB = (15+0j)\n",
      "The distance between BC = (19.849433241279208+0j)\n",
      "The distance between CD = (5+0j)\n",
      "Answer = \"The point B, C are furthest apart with distance 19.8\"\n"
     ]
    }
   ],
   "source": [
    "import cmath as cm\n",
    "A = [1,2]\n",
    "B = [10,-10]\n",
    "C = [-3, 5]\n",
    "def max_distance (a,b,c):\n",
    "    AB = cm.sqrt((a[0]-b[0])**2+(a[1]-b[1])**2)\n",
    "    print('The distance between AB =', AB)\n",
    "    BC = cm.sqrt((b[0]-c[0])**2+(b[1]-c[1])**2)\n",
    "    print('The distance between BC =', BC)\n",
    "    AC = cm.sqrt((a[0]-c[0])**2+(a[1]-c[1])**2)\n",
    "    print('The distance between CD =', AC)\n",
    "max_distance(A,B,C)\n",
    "print('Answer = \"The point B, C are furthest apart with distance 19.8\"')"
   ]
  }
 ],
 "metadata": {
  "kernelspec": {
   "display_name": "Python 3",
   "language": "python",
   "name": "python3"
  },
  "language_info": {
   "codemirror_mode": {
    "name": "ipython",
    "version": 3
   },
   "file_extension": ".py",
   "mimetype": "text/x-python",
   "name": "python",
   "nbconvert_exporter": "python",
   "pygments_lexer": "ipython3",
   "version": "3.8.8"
  }
 },
 "nbformat": 4,
 "nbformat_minor": 5
}
