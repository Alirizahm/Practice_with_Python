{
 "cells": [
  {
   "cell_type": "markdown",
   "id": "099f3d1a",
   "metadata": {},
   "source": [
    "# Question 1: How much time has passed?"
   ]
  },
  {
   "cell_type": "markdown",
   "id": "e362e78f",
   "metadata": {},
   "source": [
    "When doing Data Science projects, we might come accross data in Date format that refers to a certain point in time. They often come in very different formats - some may only have the date, some may have the month and year, and some even has the exact time (hours, minutes, seconds) and timezone. \n",
    "\n",
    "Clue: You can use any libraries to help you.\n",
    "\n",
    "In this exercise, explore some ways how to load a string that tells us date so we can calculate the difference between the two input dates. \n",
    "\n",
    "You will be tasked to write a function called `duration_count` which takes in 2 inputs. Both of the inputs are string that tells you the date. The output of your function should be the duration between the 2 inputs, in seconds. \n",
    "\n",
    "The input format will be: \"Date Month Year Hour:Minute:Second Timezone_Information\"\n",
    "\n",
    "#### Example 1:\n",
    "\n",
    "- Input 1 = 'Mon 23 Feb 2017 14:41:10 -0800'\n",
    "- Input 2 = 'Mon 23 Feb 2017 14:41:10 -0200'\n",
    "\n",
    "Both inputs refer to the same date and same time, but in different timezones. Therefore, the duration between these two dates are: 6 hours. But, as we want the answer to be in seconds, the expected answer is 21600 seconds. (Just output 21600, you don't have to write seconds).\n",
    "\n",
    "#### Example 2:\n",
    "\n",
    "- Input 1 = 'Mon 23 Dec 2017 14:00:00 -0700'\n",
    "- Input 2 = 'Tue 24 Dec 2017 14:00:00 -0700'\n",
    "\n",
    "Both inputs refer to the same time and are located in the same time zone. However, they are 1 day apart. Therefore, the duration between them are: 1 day = 1 x 24 x 3600 = 86400 seconds.\n",
    "\n",
    "#### Extra Clue:\n",
    "\n",
    "The day format is shortened (we input Mon instead of Monday), and the month is also shortened (we input Dec instead of December)."
   ]
  },
  {
   "cell_type": "code",
   "execution_count": 2,
   "id": "49a9771b",
   "metadata": {},
   "outputs": [
    {
     "data": {
      "text/plain": [
       "21600.0"
      ]
     },
     "execution_count": 2,
     "metadata": {},
     "output_type": "execute_result"
    }
   ],
   "source": [
    "from datetime import datetime\n",
    "\n",
    "time1 = 'Mon 23 Feb 2017 14:41:10 -0800'\n",
    "time2 = 'Mon 23 Feb 2017 14:41:10 -0200'\n",
    "\n",
    "def duration_count (Input_1, Input_2):\n",
    "    datetimeFormat = '%a %d %b %Y %H:%M:%S %z'\n",
    "    time_check = datetime.strptime(Input_1, datetimeFormat) - datetime.strptime(Input_2, datetimeFormat)\n",
    "    return time_check.total_seconds()\n",
    "\n",
    "duration_count(time1, time2)"
   ]
  },
  {
   "cell_type": "markdown",
   "id": "41edf582",
   "metadata": {},
   "source": [
    "# Question 2: What Day is It?"
   ]
  },
  {
   "cell_type": "markdown",
   "id": "9f84aae3",
   "metadata": {},
   "source": [
    "In time series data, we usually want to know what day is it. It usually isn't enough to just know the 'number' of date, especially when days matter a lot to our data (example: customer behavior analysis). In a customer behavior analysis scenario, we might find different behaviors in Monday - Friday vs Saturday - Sunday (weekend). Knowing the days also allow us to map some seasonality. \n",
    "\n",
    "Given 3 input: date first, then month, and finally year. Can you tell us what day is it? You can use any library that you want. Your function name should be named `find_day`.\n",
    "\n",
    "#### Example 1:\n",
    "\n",
    "`find_day(11,10,2021)` should give output \"Monday\", as 11 October 2021 is a Monday.\n",
    "\n",
    "#### Example 2:\n",
    "\n",
    "`find_day(17,8,1945)` should give output \"Friday\", as 17 August 1945 is a Friday."
   ]
  },
  {
   "cell_type": "code",
   "execution_count": 6,
   "id": "cfca343f",
   "metadata": {},
   "outputs": [
    {
     "data": {
      "text/plain": [
       "'\"Monday\", as 11 October 2021 is a Monday'"
      ]
     },
     "execution_count": 6,
     "metadata": {},
     "output_type": "execute_result"
    }
   ],
   "source": [
    "import datetime\n",
    "import time\n",
    "\n",
    "def find_day(day, month, year):\n",
    "    return(datetime.date(year,month,day).strftime('\"%A\", as %d %B %Y is a %A'))\n",
    "find_day(11,10,2021)"
   ]
  },
  {
   "cell_type": "code",
   "execution_count": 7,
   "id": "3cb47d75",
   "metadata": {},
   "outputs": [
    {
     "name": "stdout",
     "output_type": "stream",
     "text": [
      "\"Friday\", as 17 August 1945 is a Friday\n"
     ]
    }
   ],
   "source": [
    "import datetime\n",
    "import time\n",
    "\n",
    "def find_day(day, month, year):\n",
    "    print(datetime.date(year,month,day).strftime('\"%A\", as %d %B %Y is a %A'))\n",
    "find_day(17,8,1945)"
   ]
  }
 ],
 "metadata": {
  "kernelspec": {
   "display_name": "Python 3",
   "language": "python",
   "name": "python3"
  },
  "language_info": {
   "codemirror_mode": {
    "name": "ipython",
    "version": 3
   },
   "file_extension": ".py",
   "mimetype": "text/x-python",
   "name": "python",
   "nbconvert_exporter": "python",
   "pygments_lexer": "ipython3",
   "version": "3.8.8"
  }
 },
 "nbformat": 4,
 "nbformat_minor": 5
}
