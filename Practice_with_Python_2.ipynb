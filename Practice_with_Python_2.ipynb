{
 "cells": [
  {
   "cell_type": "markdown",
   "id": "5a9dff31",
   "metadata": {},
   "source": [
    "# Greatest Possible Combination"
   ]
  },
  {
   "cell_type": "markdown",
   "id": "59584305",
   "metadata": {},
   "source": [
    "How many combinations do we have?\n",
    "\n",
    "- X1 = 2, X2 = 1, X3 = 5. Output = (2^2 + 1 * 5) modulo 20 = 9 modulo 20 = 9.\n",
    "- X1 = 2, X2 = 1, X3 = 6. Output = 10\n",
    "- X1 = 2, X2 = 2, X3 = 5. Output = 14\n",
    "- X1 = 2, X2 = 2, X3 = 6. Output = 16\n",
    "- X1 = 2, X2 = 3, X3 = 5. Output = 19\n",
    "- X1 = 2, X2 = 3, X3 = 6. Output = (2^2 + 3 * 6) modulo 20 = 22 modulo 20 = 2\n",
    "- X1 = 4, X2 = 1, X3 = 5. Output = 1\n",
    "- X1 = 4, X2 = 1, X3 = 6. Output = 2\n",
    "- X1 = 4, X2 = 2, X3 = 5. Output = 6\n",
    "- X1 = 4, X2 = 2, X3 = 6. Output = 8\n",
    "- X1 = 4, X2 = 3, X3 = 5. Output = 11\n",
    "- X1 = 4, X2 = 3, X3 = 6. Output = 14\n",
    "\n",
    "Out of these 12 combinations, what is the maximum output of our function?\n",
    "\n",
    "The maximum output is 19, achieved with X1 = 2, X2 = 3, X3 = 5.\n",
    "\n",
    "Answer : 19\n",
    "\n",
    "(No need to specify the values of X1, X2, X3)."
   ]
  },
  {
   "cell_type": "code",
   "execution_count": 2,
   "id": "2eee7369",
   "metadata": {},
   "outputs": [],
   "source": [
    "import numpy as np\n",
    "from itertools import product\n",
    "X1= [2, 4]\n",
    "X2= [1, 2, 3]\n",
    "X3= [5, 6]\n",
    "max_function_value = []\n",
    "def maximum(x1,x2,x3):\n",
    "    cek1 = np.array(list(product(x1,x2,x3)))\n",
    "    for i in cek1:\n",
    "        cek2 = (i[0]**2 + i[1] * i[2]) % 20\n",
    "        max_function_value.append(cek2)\n",
    "   \n",
    "maximum(X1,X2,X3) "
   ]
  },
  {
   "cell_type": "code",
   "execution_count": 3,
   "id": "b9796273",
   "metadata": {},
   "outputs": [
    {
     "data": {
      "text/plain": [
       "[9, 10, 14, 16, 19, 2, 1, 2, 6, 8, 11, 14]"
      ]
     },
     "execution_count": 3,
     "metadata": {},
     "output_type": "execute_result"
    }
   ],
   "source": [
    "max_function_value"
   ]
  },
  {
   "cell_type": "code",
   "execution_count": 4,
   "id": "6820af95",
   "metadata": {},
   "outputs": [
    {
     "name": "stdout",
     "output_type": "stream",
     "text": [
      "The answer is X1 = 2, X2 = 3, X3 = 5. Output =  19\n"
     ]
    }
   ],
   "source": [
    "print('The answer is X1 = 2, X2 = 3, X3 = 5. Output = ', max(max_function_value))"
   ]
  }
 ],
 "metadata": {
  "kernelspec": {
   "display_name": "Python 3",
   "language": "python",
   "name": "python3"
  },
  "language_info": {
   "codemirror_mode": {
    "name": "ipython",
    "version": 3
   },
   "file_extension": ".py",
   "mimetype": "text/x-python",
   "name": "python",
   "nbconvert_exporter": "python",
   "pygments_lexer": "ipython3",
   "version": "3.8.8"
  }
 },
 "nbformat": 4,
 "nbformat_minor": 5
}
