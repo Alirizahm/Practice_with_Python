{
 "cells": [
  {
   "cell_type": "markdown",
   "id": "2f38669b",
   "metadata": {},
   "source": [
    "# Pandas"
   ]
  },
  {
   "cell_type": "markdown",
   "id": "9f74dfd2",
   "metadata": {},
   "source": [
    "Your function is called scoring. The input to your function is one dataframe.\n",
    "\n",
    "Case:\n",
    "\n",
    "You are a teacher maintaining a table of your students' scores on multiple subjects. You want to aggregate per each subject, and see the minimum, average, and maximum score of that subject."
   ]
  },
  {
   "cell_type": "code",
   "execution_count": 28,
   "id": "74be3093",
   "metadata": {},
   "outputs": [],
   "source": [
    "import pandas as pd\n",
    "import numpy as np"
   ]
  },
  {
   "cell_type": "code",
   "execution_count": 29,
   "id": "73e0e8b4",
   "metadata": {},
   "outputs": [
    {
     "data": {
      "text/html": [
       "<div>\n",
       "<style scoped>\n",
       "    .dataframe tbody tr th:only-of-type {\n",
       "        vertical-align: middle;\n",
       "    }\n",
       "\n",
       "    .dataframe tbody tr th {\n",
       "        vertical-align: top;\n",
       "    }\n",
       "\n",
       "    .dataframe thead th {\n",
       "        text-align: right;\n",
       "    }\n",
       "</style>\n",
       "<table border=\"1\" class=\"dataframe\">\n",
       "  <thead>\n",
       "    <tr style=\"text-align: right;\">\n",
       "      <th></th>\n",
       "      <th>Subject</th>\n",
       "      <th>Student</th>\n",
       "      <th>Score</th>\n",
       "    </tr>\n",
       "  </thead>\n",
       "  <tbody>\n",
       "    <tr>\n",
       "      <th>0</th>\n",
       "      <td>History</td>\n",
       "      <td>Zeke</td>\n",
       "      <td>100</td>\n",
       "    </tr>\n",
       "    <tr>\n",
       "      <th>1</th>\n",
       "      <td>History</td>\n",
       "      <td>Reiner</td>\n",
       "      <td>80</td>\n",
       "    </tr>\n",
       "    <tr>\n",
       "      <th>2</th>\n",
       "      <td>History</td>\n",
       "      <td>Pieck</td>\n",
       "      <td>90</td>\n",
       "    </tr>\n",
       "    <tr>\n",
       "      <th>3</th>\n",
       "      <td>History</td>\n",
       "      <td>Porco</td>\n",
       "      <td>75</td>\n",
       "    </tr>\n",
       "    <tr>\n",
       "      <th>4</th>\n",
       "      <td>Sports</td>\n",
       "      <td>Armin</td>\n",
       "      <td>50</td>\n",
       "    </tr>\n",
       "    <tr>\n",
       "      <th>5</th>\n",
       "      <td>Sports</td>\n",
       "      <td>Floch</td>\n",
       "      <td>80</td>\n",
       "    </tr>\n",
       "    <tr>\n",
       "      <th>6</th>\n",
       "      <td>Sports</td>\n",
       "      <td>Sasha</td>\n",
       "      <td>70</td>\n",
       "    </tr>\n",
       "    <tr>\n",
       "      <th>7</th>\n",
       "      <td>Sports</td>\n",
       "      <td>Mikasa</td>\n",
       "      <td>100</td>\n",
       "    </tr>\n",
       "    <tr>\n",
       "      <th>8</th>\n",
       "      <td>Sports</td>\n",
       "      <td>Falco</td>\n",
       "      <td>60</td>\n",
       "    </tr>\n",
       "  </tbody>\n",
       "</table>\n",
       "</div>"
      ],
      "text/plain": [
       "   Subject Student  Score\n",
       "0  History    Zeke    100\n",
       "1  History  Reiner     80\n",
       "2  History   Pieck     90\n",
       "3  History   Porco     75\n",
       "4   Sports   Armin     50\n",
       "5   Sports   Floch     80\n",
       "6   Sports   Sasha     70\n",
       "7   Sports  Mikasa    100\n",
       "8   Sports   Falco     60"
      ]
     },
     "execution_count": 29,
     "metadata": {},
     "output_type": "execute_result"
    }
   ],
   "source": [
    "df = pd.DataFrame({\n",
    "    'Subject':['History', 'History', 'History', 'History', 'Sports', 'Sports', 'Sports', 'Sports', 'Sports'],\n",
    "    'Student':['Zeke', 'Reiner', 'Pieck', 'Porco', 'Armin', 'Floch', 'Sasha', 'Mikasa', 'Falco'],\n",
    "    'Score':[100,80,90,75,50,80,70,100,60]\n",
    "})\n",
    "\n",
    "df"
   ]
  },
  {
   "cell_type": "code",
   "execution_count": 30,
   "id": "a2dd6f74",
   "metadata": {},
   "outputs": [],
   "source": [
    "def scoring(df):\n",
    "    cek = df.groupby(\"Subject\").agg(\n",
    "    Min_score=pd.NamedAgg(column=\"Score\", aggfunc=\"min\"),\n",
    "    Avg_score=pd.NamedAgg(column=\"Score\", aggfunc=\"mean\"),\n",
    "    Max_score=pd.NamedAgg(column=\"Score\", aggfunc=\"max\")).reset_index()\n",
    "    return cek"
   ]
  },
  {
   "cell_type": "code",
   "execution_count": 31,
   "id": "a6d9182f",
   "metadata": {},
   "outputs": [
    {
     "data": {
      "text/html": [
       "<div>\n",
       "<style scoped>\n",
       "    .dataframe tbody tr th:only-of-type {\n",
       "        vertical-align: middle;\n",
       "    }\n",
       "\n",
       "    .dataframe tbody tr th {\n",
       "        vertical-align: top;\n",
       "    }\n",
       "\n",
       "    .dataframe thead th {\n",
       "        text-align: right;\n",
       "    }\n",
       "</style>\n",
       "<table border=\"1\" class=\"dataframe\">\n",
       "  <thead>\n",
       "    <tr style=\"text-align: right;\">\n",
       "      <th></th>\n",
       "      <th>Subject</th>\n",
       "      <th>Min_score</th>\n",
       "      <th>Avg_score</th>\n",
       "      <th>Max_score</th>\n",
       "    </tr>\n",
       "  </thead>\n",
       "  <tbody>\n",
       "    <tr>\n",
       "      <th>0</th>\n",
       "      <td>History</td>\n",
       "      <td>75</td>\n",
       "      <td>86.25</td>\n",
       "      <td>100</td>\n",
       "    </tr>\n",
       "    <tr>\n",
       "      <th>1</th>\n",
       "      <td>Sports</td>\n",
       "      <td>50</td>\n",
       "      <td>72.00</td>\n",
       "      <td>100</td>\n",
       "    </tr>\n",
       "  </tbody>\n",
       "</table>\n",
       "</div>"
      ],
      "text/plain": [
       "   Subject  Min_score  Avg_score  Max_score\n",
       "0  History         75      86.25        100\n",
       "1   Sports         50      72.00        100"
      ]
     },
     "execution_count": 31,
     "metadata": {},
     "output_type": "execute_result"
    }
   ],
   "source": [
    "scoring(df)"
   ]
  }
 ],
 "metadata": {
  "kernelspec": {
   "display_name": "Python 3",
   "language": "python",
   "name": "python3"
  },
  "language_info": {
   "codemirror_mode": {
    "name": "ipython",
    "version": 3
   },
   "file_extension": ".py",
   "mimetype": "text/x-python",
   "name": "python",
   "nbconvert_exporter": "python",
   "pygments_lexer": "ipython3",
   "version": "3.8.8"
  }
 },
 "nbformat": 4,
 "nbformat_minor": 5
}
